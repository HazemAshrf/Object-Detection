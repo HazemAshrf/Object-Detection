version https://git-lfs.github.com/spec/v1
oid sha256:bbe06829d02b7363abf1c852f52f71510d3b7c27c6b1b7fa38e9c96cff60297f
size 54840
